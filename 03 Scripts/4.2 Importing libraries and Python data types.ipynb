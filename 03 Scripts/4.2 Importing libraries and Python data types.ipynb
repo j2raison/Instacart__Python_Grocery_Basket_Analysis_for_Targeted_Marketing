{
 "cells": [
  {
   "cell_type": "markdown",
   "id": "8dd9852e",
   "metadata": {},
   "source": [
    "# 01. Importing librarie"
   ]
  },
  {
   "cell_type": "code",
   "execution_count": 1,
   "id": "e25f17d5",
   "metadata": {},
   "outputs": [],
   "source": [
    "# Import libraries\n",
    "import pandas as pd\n",
    "import numpy as np\n",
    "import os"
   ]
  },
  {
   "cell_type": "markdown",
   "id": "0d0fa227",
   "metadata": {},
   "source": [
    "# 02. Data types"
   ]
  },
  {
   "cell_type": "code",
   "execution_count": 16,
   "id": "54aa588d-60ba-418a-b876-7e3f146ff614",
   "metadata": {},
   "outputs": [],
   "source": [
    "x = 100"
   ]
  },
  {
   "cell_type": "code",
   "execution_count": 17,
   "id": "01f764c3-8b65-4282-b231-1071ecab4216",
   "metadata": {},
   "outputs": [
    {
     "data": {
      "text/plain": [
       "100"
      ]
     },
     "execution_count": 17,
     "metadata": {},
     "output_type": "execute_result"
    }
   ],
   "source": [
    "x"
   ]
  },
  {
   "cell_type": "code",
   "execution_count": 18,
   "id": "a40e2c42-aef5-46b0-8c82-86e8437896d2",
   "metadata": {},
   "outputs": [],
   "source": [
    "y = 50"
   ]
  },
  {
   "cell_type": "code",
   "execution_count": 19,
   "id": "92efca89-a0d2-4a95-a8ef-8aa2118a76d8",
   "metadata": {},
   "outputs": [
    {
     "data": {
      "text/plain": [
       "100"
      ]
     },
     "execution_count": 19,
     "metadata": {},
     "output_type": "execute_result"
    }
   ],
   "source": [
    "y+y"
   ]
  },
  {
   "cell_type": "code",
   "execution_count": 20,
   "id": "1881ea14-fb9e-4619-a3ac-fc510914120a",
   "metadata": {},
   "outputs": [
    {
     "data": {
      "text/plain": [
       "100"
      ]
     },
     "execution_count": 20,
     "metadata": {},
     "output_type": "execute_result"
    }
   ],
   "source": [
    "y*2"
   ]
  },
  {
   "cell_type": "code",
   "execution_count": 21,
   "id": "a271a33c-b0cc-4d5f-889a-a5f5a1f3cbdc",
   "metadata": {},
   "outputs": [],
   "source": [
    "#8. Code 2 floating-point variables and divide them by each other\n",
    "a = 5.123"
   ]
  },
  {
   "cell_type": "code",
   "execution_count": 22,
   "id": "6bed359a-c0e1-4c97-abca-d4152e20b78a",
   "metadata": {},
   "outputs": [],
   "source": [
    "b = 7.98"
   ]
  },
  {
   "cell_type": "code",
   "execution_count": 23,
   "id": "5ed1b796-6017-47d0-932c-4b5097059b63",
   "metadata": {},
   "outputs": [
    {
     "data": {
      "text/plain": [
       "1.557681046261956"
      ]
     },
     "execution_count": 23,
     "metadata": {},
     "output_type": "execute_result"
    }
   ],
   "source": [
    "b/a"
   ]
  },
  {
   "cell_type": "code",
   "execution_count": 24,
   "id": "e4b49ebf-df48-4a1c-8da4-091bcade5171",
   "metadata": {},
   "outputs": [],
   "source": [
    "#9. Construct a short word made of separate strings\n",
    "s='short'"
   ]
  },
  {
   "cell_type": "code",
   "execution_count": 25,
   "id": "93303e02-840e-43ba-84ed-c88668387c8b",
   "metadata": {},
   "outputs": [],
   "source": [
    "w='word'"
   ]
  },
  {
   "cell_type": "code",
   "execution_count": 26,
   "id": "bfe10f29-8f24-45bf-953c-a36878a363fb",
   "metadata": {},
   "outputs": [
    {
     "data": {
      "text/plain": [
       "'shortword'"
      ]
     },
     "execution_count": 26,
     "metadata": {},
     "output_type": "execute_result"
    }
   ],
   "source": [
    "s+w"
   ]
  },
  {
   "cell_type": "code",
   "execution_count": 30,
   "id": "8018b645-56df-4ecc-9bc1-16ff0a33f781",
   "metadata": {},
   "outputs": [
    {
     "data": {
      "text/plain": [
       "'Construct a shortword made of separate strings'"
      ]
     },
     "execution_count": 30,
     "metadata": {},
     "output_type": "execute_result"
    }
   ],
   "source": [
    "#10. Construct 2 short sentences made of separate strings\n",
    "'Construct '+'a '+s+w+' made of separate strings'"
   ]
  },
  {
   "cell_type": "code",
   "execution_count": 32,
   "id": "5b11d7bf-42de-42ef-b17d-9a8eca84486c",
   "metadata": {},
   "outputs": [
    {
     "data": {
      "text/plain": [
       "'Construct 2 short sentences made of separate strings'"
      ]
     },
     "execution_count": 32,
     "metadata": {},
     "output_type": "execute_result"
    }
   ],
   "source": [
    "'Construct 2 '+s+' sentences made'+' of separate strings'"
   ]
  },
  {
   "cell_type": "code",
   "execution_count": 33,
   "id": "cd09f00a-7c83-41a8-8cfc-1ec46e710b2f",
   "metadata": {},
   "outputs": [
    {
     "data": {
      "text/plain": [
       "'shortshortshortshortshortshortshortshortshortshortshortshortshortshortshortshortshortshortshortshortshortshortshortshortshortshortshortshortshortshortshortshortshortshortshortshortshortshortshortshortshortshortshortshortshortshortshortshortshortshortshortshortshortshortshortshortshortshortshortshortshortshortshortshortshortshortshortshortshortshortshortshortshortshortshortshortshortshortshortshortshortshortshortshortshortshortshortshortshortshortshortshortshortshortshortshortshortshortshortshort'"
      ]
     },
     "execution_count": 33,
     "metadata": {},
     "output_type": "execute_result"
    }
   ],
   "source": [
    "#Bonus Task. At the bottom of your file, include a command that makes a string appear 100 times\n",
    "s*100"
   ]
  },
  {
   "cell_type": "code",
   "execution_count": null,
   "id": "7e71621f-28c4-4c88-b9e8-34cdfe774627",
   "metadata": {},
   "outputs": [],
   "source": []
  }
 ],
 "metadata": {
  "kernelspec": {
   "display_name": "Python 3 (ipykernel)",
   "language": "python",
   "name": "python3"
  },
  "language_info": {
   "codemirror_mode": {
    "name": "ipython",
    "version": 3
   },
   "file_extension": ".py",
   "mimetype": "text/x-python",
   "name": "python",
   "nbconvert_exporter": "python",
   "pygments_lexer": "ipython3",
   "version": "3.11.5"
  }
 },
 "nbformat": 4,
 "nbformat_minor": 5
}
